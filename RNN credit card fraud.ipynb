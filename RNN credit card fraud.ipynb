{
 "cells": [
  {
   "cell_type": "markdown",
   "id": "5ffb6ee5",
   "metadata": {},
   "source": [
    "## <div align=\"center\"> UJIAN AKHIR SEMESTER IF540-L MACHINE LEARNING </div>\n",
    "## <div align=\"center\"> Semester Gasal 2024/2025 </div>\n",
    "## <div align=\"center\"> Penerapan Deep Learning untuk Deteksi Penipuan Transaksi Kartu Kredit Menggunakan RNN\r\n",
    " </div>"
   ]
  },
  {
   "cell_type": "markdown",
   "id": "4aa44591-8d2f-4390-88f7-7af04e2b35a8",
   "metadata": {},
   "source": [
    "---\n",
    "## Instruction\n",
    "\n",
    "<ul>\n",
    "    <li>Please make sure that <b>ALL</b> required submission files are submitted on the E-Learning.</li>\n",
    "    <li>Please make sure to use <b>Markdown</b> as comment for the code you are writing</li>\n",
    "    <li>Do not ZIP the submission files</li>\n",
    "</ul>\n",
    "\n",
    "## Caution\n",
    "<ul>\n",
    "    <li>We DOES NOT ACCEPT a submission via Gmail, Google Drive, Whatsapp, or any other than E-Learning</li>\n",
    "    <li>We DOES NOT tolerate any plagriarism, etc.</li>\n",
    "    <li>DO NOT change the order of this template.</li>\n",
    "</ul>"
   ]
  },
  {
   "cell_type": "markdown",
   "id": "d4aa3c83",
   "metadata": {},
   "source": [
    "---\n",
    "### Group 6\n",
    "\n",
    "##### Members : \n",
    "<ul>\n",
    "    <li>1. Khalif Ziran Maulana - 00000071749</li>\n",
    "    <li>2. Muhammad Ravindra Mahesandra - 00000072501</li>\n",
    "    <li>3. Vinsensius Paulo Ryananda Virgiawan - 00000073384</li>\n",
    "    <li>4. Daniel Ricardo Hadirahardja - 00000071936</li>\n",
    "</ul>\n",
    "\n",
    "---"
   ]
  },
  {
   "cell_type": "markdown",
   "id": "969da47d",
   "metadata": {},
   "source": [
    "\n",
    "\n",
    "### The dataset that are being used for the project\n",
    "\n",
    "1. Credit Card Fraud Detection – Source : https://www.kaggle.com/datasets/mlg-ulb/creditcardfraud/data\n",
    "\n",
    "### Dataset Description: \n",
    "##### Please describe the dataset with much detail if possible\n",
    "Dataset ini merupakan kumpulan data transaksi kartu kredit yang digunakan untuk membangun model deteksi penipuan. Dataset terdiri dari sejumlah fitur yang telah melalui proses reduksi dimensi menggunakan PCA (untuk fitur V1 - V28) dan beberapa fitur tambahan seperti time dan amount. Dataset ini sangat tidak seimbang karena hanya sekitar 0.17% dari transaksi adalah penipuan (class = 1), yang mencerminkan kejadian sebenarnya dalam dunia nyata di mana penipuan jauh lebih sedikit dibandingkan transaksi yang sah.\n",
    "\n",
    "- Time: Menyatakan jumlah detik yang berlalu antara transaksi ini dan transaksi pertama dalam dataset. \r",
    "- V1 - V28: Hasil dari reduksi dimensi menggunakan Principal Component Analysis (PCA). Transformasi ini dilakukan untuk melindungi identitas pengguna dan mengurangi sensitivitas fitur asli, yang mungkin mengandung data pribadi. V1 hingga V28 merupakan fitur-fitur yang mewakili informasi penting terkait transaksi setelah reduksi dimensi\n",
    "- Amount: Jumlah nominal transaksi yang terjad\n",
    "- \n",
    "Class: Label target yang menyatakan apakah transaksi tersebut merupakan penipuan (1) atau bukan (0). Ini adalah variabel target yang akan diprediksi oleh model\n",
    "\n",
    "### Project Showcase"
   ]
  },
  {
   "cell_type": "markdown",
   "id": "8bae03ce-dc6f-46e5-8036-f5ccce29c4e3",
   "metadata": {},
   "source": [
    "### IMPORT LIBRARY"
   ]
  },
  {
   "cell_type": "code",
   "execution_count": 92,
   "id": "38cf589a",
   "metadata": {},
   "outputs": [],
   "source": [
    "from imblearn.over_sampling import SMOTE\n",
    "from sklearn.preprocessing import StandardScaler\n",
    "from sklearn.model_selection import train_test_split\n",
    "from sklearn.metrics import confusion_matrix, classification_report\n",
    "from tensorflow.keras import Sequential\n",
    "from tensorflow.keras.layers import LSTM, Dense, Dropout\n",
    "import matplotlib.pyplot as plt\n",
    "import pandas as pd\n",
    "import numpy as np\n",
    "from tensorflow.keras.regularizers import l2\n",
    "from tensorflow.keras.callbacks import EarlyStopping\n",
    "import seaborn as sns\n",
    "from tensorflow.keras.utils import plot_model"
   ]
  },
  {
   "cell_type": "markdown",
   "id": "ad52bb11-f7d5-451f-bc5c-8b0cccee3764",
   "metadata": {},
   "source": [
    "### PREPROCESSING\n",
    "- Tahap preprocessing dimulai dengan memuat dataset transaksi kartu kredit dan mengurutkannya berdasarkan kolom Time untuk mempertahankan urutan waktu dari data.\n",
    "- Selanjutnya, dilakukan pemeriksaan terhadap missing values pada setiap kolom dan memastikan bahwa tidak ada data yang hilang. Kemudian, distribusi variabel target (Class) dianalisis, menunjukkan bahwa dataset sangat tidak seimbang dengan hanya 0,17% transaksi yang merupakan penipuan.\n",
    "- Data fitur dinormalisasi menggunakan metode StandardScaler agar skala semua fitur seragam. Untuk mengatasi ketidakseimbangan kelas, teknik SMOTE (Synthetic Minority Oversampling Technique) diterapkan untuk menghasilkan data sintetis dari kelas minoritas.\n",
    "- Setelah itu, dataset hasil balancing diurutkan kembali berdasarkan kolom Time untuk mempertahankan sifat time series-nya.\n",
    "- Terakhir, dataset diubah menjadi sekuensi time series menggunakan jendela data sepanjang 30 langkah, dengan setiap sekuensi dihubungkan dengan label targetnya."
   ]
  },
  {
   "cell_type": "markdown",
   "id": "f7d39d22-6245-4da5-8d65-e67a6b9bdb80",
   "metadata": {},
   "source": [
    "#### 2. Muat Dataset dan Sort Data Berdasarkan Time "
   ]
  },
  {
   "cell_type": "code",
   "execution_count": 93,
   "id": "dcaefbb7-3666-4042-af82-3ef720ed9bf3",
   "metadata": {},
   "outputs": [],
   "source": [
    "data = pd.read_csv('creditcard.csv')\n",
    "data = data.sort_values(by='Time').reset_index(drop=True)"
   ]
  },
  {
   "cell_type": "markdown",
   "id": "ace25efa-885a-4ea8-91d4-a02c707273c8",
   "metadata": {},
   "source": [
    "#### 3. Check for missing values"
   ]
  },
  {
   "cell_type": "code",
   "execution_count": 94,
   "id": "caa24261-4dc1-4019-8194-b22029507dce",
   "metadata": {},
   "outputs": [
    {
     "name": "stdout",
     "output_type": "stream",
     "text": [
      "Missing values per column:\n",
      "Time      0\n",
      "V1        0\n",
      "V2        0\n",
      "V3        0\n",
      "V4        0\n",
      "V5        0\n",
      "V6        0\n",
      "V7        0\n",
      "V8        0\n",
      "V9        0\n",
      "V10       0\n",
      "V11       0\n",
      "V12       0\n",
      "V13       0\n",
      "V14       0\n",
      "V15       0\n",
      "V16       0\n",
      "V17       0\n",
      "V18       0\n",
      "V19       0\n",
      "V20       0\n",
      "V21       0\n",
      "V22       0\n",
      "V23       0\n",
      "V24       0\n",
      "V25       0\n",
      "V26       0\n",
      "V27       0\n",
      "V28       0\n",
      "Amount    0\n",
      "Class     0\n",
      "dtype: int64\n"
     ]
    }
   ],
   "source": [
    "print(\"Missing values per column:\")\n",
    "print(data.isnull().sum())"
   ]
  },
  {
   "cell_type": "markdown",
   "id": "528e364c-48a4-46fb-a744-1fa85e987421",
   "metadata": {},
   "source": [
    "#### 4. Check the distribution of the 'Class' variable"
   ]
  },
  {
   "cell_type": "code",
   "execution_count": 95,
   "id": "16d5be06-471c-4d78-b91f-c925f9303388",
   "metadata": {},
   "outputs": [
    {
     "name": "stdout",
     "output_type": "stream",
     "text": [
      "\n",
      "Class distribution:\n",
      "Class\n",
      "0    284315\n",
      "1       492\n",
      "Name: count, dtype: int64\n"
     ]
    }
   ],
   "source": [
    "print(\"\\nClass distribution:\")\n",
    "print(data['Class'].value_counts())"
   ]
  },
  {
   "cell_type": "markdown",
   "id": "76bbb8dd-9217-462f-b159-9ac308169020",
   "metadata": {},
   "source": [
    "#### 5. Normalisasi"
   ]
  },
  {
   "cell_type": "code",
   "execution_count": 96,
   "id": "fcf361f3-7d01-4710-9f47-add8d98c313b",
   "metadata": {},
   "outputs": [],
   "source": [
    "scaler = StandardScaler()\n",
    "scaled_features = scaler.fit_transform(data.drop(columns=['Class']))\n",
    "scaled_data = pd.DataFrame(scaled_features, columns=data.columns[:-1])\n",
    "scaled_data['Class'] = data['Class']"
   ]
  },
  {
   "cell_type": "markdown",
   "id": "bd69bd5b-9e2c-4186-b70c-4acecabc609d",
   "metadata": {},
   "source": [
    "#### 6. Balancing"
   ]
  },
  {
   "cell_type": "code",
   "execution_count": 97,
   "id": "ef10cede-7a15-463f-8419-1a45afecdde1",
   "metadata": {},
   "outputs": [],
   "source": [
    "X_rnn = scaled_data.drop(columns=['Class'])\n",
    "y_rnn = scaled_data['Class']\n",
    "\n",
    "smote = SMOTE(random_state=42)\n",
    "X_balanced_rnn, y_balanced_rnn = smote.fit_resample(X_rnn, y_rnn)"
   ]
  },
  {
   "cell_type": "markdown",
   "id": "55a02f4c-7c44-41c8-b133-854f63010dce",
   "metadata": {},
   "source": [
    "#### 7. Buat dataframe seimbang dan urutkan ulang berdasarkan waktu"
   ]
  },
  {
   "cell_type": "code",
   "execution_count": 98,
   "id": "aa230481-4901-4ccf-996a-241d5eee4d71",
   "metadata": {},
   "outputs": [],
   "source": [
    "balanced_data_rnn = pd.DataFrame(X_balanced_rnn, columns=X_rnn.columns)\n",
    "balanced_data_rnn['Class'] = y_balanced_rnn\n",
    "balanced_data_rnn = balanced_data_rnn.sort_values(by='Time').reset_index(drop=True)"
   ]
  },
  {
   "cell_type": "markdown",
   "id": "d92d5ea3-171d-403a-a3ef-9986beb2080c",
   "metadata": {},
   "source": [
    "#### 8. Membuat sekuensi time series"
   ]
  },
  {
   "cell_type": "code",
   "execution_count": 99,
   "id": "9eba11e0-587a-414e-998a-8b9f0217f972",
   "metadata": {},
   "outputs": [],
   "source": [
    "def create_sequences(data, target_col, sequence_length=30):\n",
    "    sequences = []\n",
    "    targets = []\n",
    "    for i in range(len(data) - sequence_length):\n",
    "        seq = data.iloc[i:i + sequence_length].drop(columns=[target_col]).values\n",
    "        label = data.iloc[i + sequence_length][target_col]\n",
    "        sequences.append(seq)\n",
    "        targets.append(label)\n",
    "    return np.array(sequences), np.array(targets)\n",
    "\n",
    "# Membuat sekuensi time series\n",
    "sequence_length = 30\n",
    "X_seq_rnn, y_seq_rnn = create_sequences(balanced_data_rnn, target_col='Class', sequence_length=sequence_length)"
   ]
  },
  {
   "cell_type": "markdown",
   "id": "5a3e1f68-a8b3-41e5-9b50-0e73c24d9fa2",
   "metadata": {},
   "source": [
    "### PEMBANGUNAN MODEL\n",
    "- Model dikembangkan dengan membagi data time series menjadi data latih dan data uji, menggunakan rasio 80:20 dan stratifikasi untuk memastikan distribusi kelas tetap terjaga di setiap subset.\n",
    "- Model RNN dibangun menggunakan arsitektur LSTM (Long Short-Term Memory) dengan dua lapisan utama. Lapisan pertama memiliki 32 unit dengan output sekuensial, dan lapisan kedua memiliki 16 unit tanpa output sekuensial. Dropout diterapkan di setiap lapisan untuk mencegah overfitting, diikuti dengan lapisan dense berisi 64 unit dengan fungsi aktivasi ReLU, dan lapisan output berisi 1 unit dengan fungsi aktivasi sigmoid untuk klasifikasi biner.\n",
    "- Model di-compile menggunakan optimizer Adam dengan fungsi loss binary_crossentropy dan metrik akurasi. Pelatihan model dilakukan selama maksimal 20 epoch dengan batch size 200, menggunakan callback EarlyStopping untuk menghentikan pelatihan lebih awal jika performa pada data validasi tidak meningkat setelah tiga epoch berturut-turut."
   ]
  },
  {
   "cell_type": "markdown",
   "id": "0416243d-5edd-4ff8-b877-0fc8cdd1c18f",
   "metadata": {},
   "source": [
    "#### 9. Split data menjadi train-test"
   ]
  },
  {
   "cell_type": "code",
   "execution_count": 100,
   "id": "3ea97b07-201e-4305-ab4a-3cafbca3decf",
   "metadata": {},
   "outputs": [],
   "source": [
    "X_train_rnn, X_test_rnn, y_train_rnn, y_test_rnn = train_test_split(\n",
    "    X_seq_rnn, y_seq_rnn, test_size=0.2, random_state=42, stratify=y_seq_rnn\n",
    ")"
   ]
  },
  {
   "cell_type": "markdown",
   "id": "cd2b620f-60df-401d-bf1f-18dc758e41eb",
   "metadata": {},
   "source": [
    "#### 10. Pembangunan model"
   ]
  },
  {
   "cell_type": "code",
   "execution_count": 101,
   "id": "ffb966bb-1c59-4986-8412-58238243a9c1",
   "metadata": {},
   "outputs": [
    {
     "name": "stderr",
     "output_type": "stream",
     "text": [
      "C:\\Users\\Msi Gf63\\AppData\\Roaming\\Python\\Python311\\site-packages\\keras\\src\\layers\\rnn\\rnn.py:204: UserWarning: Do not pass an `input_shape`/`input_dim` argument to a layer. When using Sequential models, prefer using an `Input(shape)` object as the first layer in the model instead.\n",
      "  super().__init__(**kwargs)\n"
     ]
    }
   ],
   "source": [
    "rnn = Sequential()\n",
    "rnn.add(LSTM(32, return_sequences=True, input_shape=(X_train_rnn.shape[1], X_train_rnn.shape[2]), dropout=0.3, recurrent_dropout=0.2))\n",
    "rnn.add(LSTM(16, return_sequences=False, dropout=0.3, recurrent_dropout=0.2))\n",
    "rnn.add(Dropout(0.4))\n",
    "rnn.add(Dense(64, activation='relu', kernel_regularizer=l2(0.01)))\n",
    "rnn.add(Dropout(0.5))\n",
    "rnn.add(Dense(1, activation='sigmoid'))"
   ]
  },
  {
   "cell_type": "markdown",
   "id": "be854374-a3a7-4e11-a9f3-386a22d032cf",
   "metadata": {},
   "source": [
    "#### 11. Compile model"
   ]
  },
  {
   "cell_type": "code",
   "execution_count": 102,
   "id": "8fc0aeba-0551-408f-bca2-a644ad9b6b87",
   "metadata": {},
   "outputs": [],
   "source": [
    "rnn.compile(optimizer='adam', loss='binary_crossentropy', metrics=['accuracy'])"
   ]
  },
  {
   "cell_type": "markdown",
   "id": "2b7d3a62-f824-41d0-98b4-9f0522e03440",
   "metadata": {},
   "source": [
    "#### 12. Train model dengan earlystopping"
   ]
  },
  {
   "cell_type": "code",
   "execution_count": 103,
   "id": "59014186-4dce-452b-9a2b-d0e8eafda284",
   "metadata": {},
   "outputs": [
    {
     "name": "stdout",
     "output_type": "stream",
     "text": [
      "Epoch 1/20\n",
      "\u001b[1m2275/2275\u001b[0m \u001b[32m━━━━━━━━━━━━━━━━━━━━\u001b[0m\u001b[37m\u001b[0m \u001b[1m42s\u001b[0m 15ms/step - accuracy: 0.6538 - loss: 0.6538 - val_accuracy: 0.6999 - val_loss: 0.5633\n",
      "Epoch 2/20\n",
      "\u001b[1m2275/2275\u001b[0m \u001b[32m━━━━━━━━━━━━━━━━━━━━\u001b[0m\u001b[37m\u001b[0m \u001b[1m31s\u001b[0m 14ms/step - accuracy: 0.6937 - loss: 0.5740 - val_accuracy: 0.7047 - val_loss: 0.5568\n",
      "Epoch 3/20\n",
      "\u001b[1m2275/2275\u001b[0m \u001b[32m━━━━━━━━━━━━━━━━━━━━\u001b[0m\u001b[37m\u001b[0m \u001b[1m35s\u001b[0m 15ms/step - accuracy: 0.6973 - loss: 0.5695 - val_accuracy: 0.7066 - val_loss: 0.5542\n",
      "Epoch 4/20\n",
      "\u001b[1m2275/2275\u001b[0m \u001b[32m━━━━━━━━━━━━━━━━━━━━\u001b[0m\u001b[37m\u001b[0m \u001b[1m36s\u001b[0m 16ms/step - accuracy: 0.6989 - loss: 0.5670 - val_accuracy: 0.7065 - val_loss: 0.5534\n",
      "Epoch 5/20\n",
      "\u001b[1m2275/2275\u001b[0m \u001b[32m━━━━━━━━━━━━━━━━━━━━\u001b[0m\u001b[37m\u001b[0m \u001b[1m35s\u001b[0m 15ms/step - accuracy: 0.6983 - loss: 0.5664 - val_accuracy: 0.7068 - val_loss: 0.5537\n",
      "Epoch 6/20\n",
      "\u001b[1m2275/2275\u001b[0m \u001b[32m━━━━━━━━━━━━━━━━━━━━\u001b[0m\u001b[37m\u001b[0m \u001b[1m36s\u001b[0m 16ms/step - accuracy: 0.7014 - loss: 0.5644 - val_accuracy: 0.7077 - val_loss: 0.5525\n",
      "Epoch 7/20\n",
      "\u001b[1m2275/2275\u001b[0m \u001b[32m━━━━━━━━━━━━━━━━━━━━\u001b[0m\u001b[37m\u001b[0m \u001b[1m37s\u001b[0m 16ms/step - accuracy: 0.7016 - loss: 0.5643 - val_accuracy: 0.7086 - val_loss: 0.5510\n",
      "Epoch 8/20\n",
      "\u001b[1m2275/2275\u001b[0m \u001b[32m━━━━━━━━━━━━━━━━━━━━\u001b[0m\u001b[37m\u001b[0m \u001b[1m35s\u001b[0m 15ms/step - accuracy: 0.7011 - loss: 0.5639 - val_accuracy: 0.7079 - val_loss: 0.5512\n",
      "Epoch 9/20\n",
      "\u001b[1m2275/2275\u001b[0m \u001b[32m━━━━━━━━━━━━━━━━━━━━\u001b[0m\u001b[37m\u001b[0m \u001b[1m34s\u001b[0m 15ms/step - accuracy: 0.7018 - loss: 0.5634 - val_accuracy: 0.7077 - val_loss: 0.5512\n",
      "Epoch 10/20\n",
      "\u001b[1m2275/2275\u001b[0m \u001b[32m━━━━━━━━━━━━━━━━━━━━\u001b[0m\u001b[37m\u001b[0m \u001b[1m36s\u001b[0m 16ms/step - accuracy: 0.7030 - loss: 0.5627 - val_accuracy: 0.7094 - val_loss: 0.5498\n",
      "Epoch 11/20\n",
      "\u001b[1m2275/2275\u001b[0m \u001b[32m━━━━━━━━━━━━━━━━━━━━\u001b[0m\u001b[37m\u001b[0m \u001b[1m35s\u001b[0m 15ms/step - accuracy: 0.7019 - loss: 0.5622 - val_accuracy: 0.7088 - val_loss: 0.5493\n",
      "Epoch 12/20\n",
      "\u001b[1m2275/2275\u001b[0m \u001b[32m━━━━━━━━━━━━━━━━━━━━\u001b[0m\u001b[37m\u001b[0m \u001b[1m34s\u001b[0m 15ms/step - accuracy: 0.7026 - loss: 0.5619 - val_accuracy: 0.7100 - val_loss: 0.5512\n",
      "Epoch 13/20\n",
      "\u001b[1m2275/2275\u001b[0m \u001b[32m━━━━━━━━━━━━━━━━━━━━\u001b[0m\u001b[37m\u001b[0m \u001b[1m34s\u001b[0m 15ms/step - accuracy: 0.7032 - loss: 0.5622 - val_accuracy: 0.7080 - val_loss: 0.5515\n",
      "Epoch 14/20\n",
      "\u001b[1m2275/2275\u001b[0m \u001b[32m━━━━━━━━━━━━━━━━━━━━\u001b[0m\u001b[37m\u001b[0m \u001b[1m34s\u001b[0m 15ms/step - accuracy: 0.7036 - loss: 0.5603 - val_accuracy: 0.7080 - val_loss: 0.5495\n"
     ]
    }
   ],
   "source": [
    "early_stopping_rnn = EarlyStopping(monitor='val_loss', patience=3, restore_best_weights=True)\n",
    "\n",
    "history_rnn = rnn.fit(\n",
    "    X_train_rnn, y_train_rnn,\n",
    "    epochs=20,\n",
    "    batch_size=200,\n",
    "    validation_data=(X_test_rnn, y_test_rnn),\n",
    "    callbacks=[early_stopping_rnn],\n",
    "    verbose=1\n",
    ")"
   ]
  },
  {
   "cell_type": "markdown",
   "id": "b886be3d-0fe9-4c5f-8580-7c93c45f52e0",
   "metadata": {},
   "source": [
    "### EVALUASI MODEL\n",
    "- Model dievaluasi menggunakan data uji dengan menghasilkan prediksi probabilitas, yang kemudian diubah menjadi label biner berdasarkan threshold 0,5. Evaluasi performa melibatkan pembuatan confusion matrix, yang divisualisasikan dalam bentuk heatmap untuk memberikan gambaran distribusi prediksi benar dan salah.\n",
    "- Selain itu, classification report dihasilkan untuk menilai metrik seperti precision, recall, dan F1-score pada kedua kelas. Akurasi keseluruhan model adalah sekitar 71%. Untuk memahami proses pelatihan model, visualisasi grafik akurasi dan loss dilakukan pada data latih dan validasi di setiap epoch.\n",
    "- Hasil menunjukkan bahwa model berhasil belajar pola dari data, namun performanya masih dapat ditingkatkan dengan optimasi lebih lanjut, seperti tuning hyperparameter atau eksperimen dengan arsitektur yang lebih kompleks."
   ]
  },
  {
   "cell_type": "markdown",
   "id": "8a4c2e87-bbdf-4fba-8b6b-dca6b48a70e6",
   "metadata": {},
   "source": [
    "#### 13. Mebuat prediksi terhadap output"
   ]
  },
  {
   "cell_type": "code",
   "execution_count": 104,
   "id": "be2c73a8-16a3-4c0c-bd89-52775689de83",
   "metadata": {},
   "outputs": [
    {
     "name": "stdout",
     "output_type": "stream",
     "text": [
      "\u001b[1m3554/3554\u001b[0m \u001b[32m━━━━━━━━━━━━━━━━━━━━\u001b[0m\u001b[37m\u001b[0m \u001b[1m9s\u001b[0m 2ms/step\n"
     ]
    }
   ],
   "source": [
    "predictions_prob_rnn = rnn.predict(X_test_rnn)\n",
    "threshold = 0.5\n",
    "predictions_rnn = (predictions_prob_rnn > threshold).astype(int)"
   ]
  },
  {
   "cell_type": "markdown",
   "id": "ae518361-c41c-4c82-add3-e2b72d9c0fa6",
   "metadata": {},
   "source": [
    "#### 14. Confusion matrix"
   ]
  },
  {
   "cell_type": "code",
   "execution_count": 105,
   "id": "839b8db6-912e-4012-97bd-f023f35e7057",
   "metadata": {},
   "outputs": [
    {
     "name": "stdout",
     "output_type": "stream",
     "text": [
      "\n",
      "[RNN] Confusion Matrix:\n",
      " [[44515 12342]\n",
      " [20774 36089]]\n"
     ]
    },
    {
     "data": {
      "image/png": "[encoded data removed]",
      "text/plain": [
       "<Figure size 800x600 with 2 Axes>"
      ]
     },
     "metadata": {},
     "output_type": "display_data"
    }
   ],
   "source": [
    "conf_matrix_rnn = confusion_matrix(y_test_rnn, predictions_rnn)\n",
    "print(\"\\n[RNN] Confusion Matrix:\\n\", conf_matrix_rnn)\n",
    "\n",
    "plt.figure(figsize=(8, 6))\n",
    "sns.heatmap(conf_matrix_rnn, annot=True, fmt=\"d\", cmap=\"Blues\", cbar=True, linewidths=0.5)\n",
    "plt.title(\"Confusion Matrix\")\n",
    "plt.xlabel(\"Predicted\")\n",
    "plt.ylabel(\"Actual\")\n",
    "plt.show()"
   ]
  },
  {
   "cell_type": "markdown",
   "id": "efb0cb59-91fb-41a7-807e-68c669406834",
   "metadata": {},
   "source": [
    "#### 15. Klasifikasi report"
   ]
  },
  {
   "cell_type": "code",
   "execution_count": 106,
   "id": "d083a69c-761a-42f8-b67b-9c4ca635bfb7",
   "metadata": {},
   "outputs": [
    {
     "name": "stdout",
     "output_type": "stream",
     "text": [
      "\n",
      "[RNN] Classification Report:\n",
      "               precision    recall  f1-score   support\n",
      "\n",
      "         0.0       0.68      0.78      0.73     56857\n",
      "         1.0       0.75      0.63      0.69     56863\n",
      "\n",
      "    accuracy                           0.71    113720\n",
      "   macro avg       0.71      0.71      0.71    113720\n",
      "weighted avg       0.71      0.71      0.71    113720\n",
      "\n"
     ]
    }
   ],
   "source": [
    "print(\"\\n[RNN] Classification Report:\\n\", classification_report(y_test_rnn, predictions_rnn))"
   ]
  },
  {
   "cell_type": "markdown",
   "id": "963f02b5-56de-4297-a65a-9c339b15bbe4",
   "metadata": {},
   "source": [
    "#### 16. Visualisasi train accuracy"
   ]
  },
  {
   "cell_type": "code",
   "execution_count": 107,
   "id": "cb151ac6-1417-4bc9-8853-b03612ba4433",
   "metadata": {},
   "outputs": [
    {
     "data": {
      "image/png": "[encoded data removed]",
      "text/plain": [
       "<Figure size 640x480 with 1 Axes>"
      ]
     },
     "metadata": {},
     "output_type": "display_data"
    }
   ],
   "source": [
    "plt.plot(history_rnn.history['accuracy'], label='Train Accuracy')\n",
    "plt.plot(history_rnn.history['val_accuracy'], label='Validation Accuracy')\n",
    "plt.title(\"RNN Model Accuracy\")\n",
    "plt.xlabel(\"Epochs\")\n",
    "plt.ylabel(\"Accuracy\")\n",
    "plt.legend()\n",
    "plt.show()"
   ]
  },
  {
   "cell_type": "markdown",
   "id": "bf52a106-0beb-4dc8-8c56-ce20c85c3d60",
   "metadata": {},
   "source": [
    "#### 17. Visualisasi train lost"
   ]
  },
  {
   "cell_type": "code",
   "execution_count": 108,
   "id": "9b1b4969-5c65-4495-86c5-617ca2662c4a",
   "metadata": {},
   "outputs": [
    {
     "data": {
      "image/png": "[encoded data removed]",
      "text/plain": [
       "<Figure size 640x480 with 1 Axes>"
      ]
     },
     "metadata": {},
     "output_type": "display_data"
    }
   ],
   "source": [
    "plt.plot(history_rnn.history['loss'], label='Train Loss')\n",
    "plt.plot(history_rnn.history['val_loss'], label='Validation Loss')\n",
    "plt.title(\"RNN Model Loss\")\n",
    "plt.xlabel(\"Epochs\")\n",
    "plt.ylabel(\"Loss\")\n",
    "plt.legend()\n",
    "plt.show()"
   ]
  },
  {
   "cell_type": "markdown",
   "id": "6b068018-d2cb-4035-b0d1-2e48f8270b82",
   "metadata": {},
   "source": [
    "#### 18. Visualisasi model"
   ]
  },
  {
   "cell_type": "code",
   "execution_count": 109,
   "id": "6117096d-203c-44b5-870b-8887d2280488",
   "metadata": {},
   "outputs": [
    {
     "data": {
      "text/html": [
       "<pre style=\"white-space:pre;overflow-x:auto;line-height:normal;font-family:Menlo,'DejaVu Sans Mono',consolas,'Courier New',monospace\"><span style=\"font-weight: bold\">Model: \"sequential_3\"</span>\n",
       "</pre>\n"
      ],
      "text/plain": [
       "\u001b[1mModel: \"sequential_3\"\u001b[0m\n"
      ]
     },
     "metadata": {},
     "output_type": "display_data"
    },
    {
     "data": {
      "text/html": [
       "<pre style=\"white-space:pre;overflow-x:auto;line-height:normal;font-family:Menlo,'DejaVu Sans Mono',consolas,'Courier New',monospace\">┏━━━━━━━━━━━━━━━━━━━━━━━━━━━━━━━━━┳━━━━━━━━━━━━━━━━━━━━━━━━┳━━━━━━━━━━━━━━━┓\n",
       "┃<span style=\"font-weight: bold\"> Layer (type)                    </span>┃<span style=\"font-weight: bold\"> Output Shape           </span>┃<span style=\"font-weight: bold\">       Param # </span>┃\n",
       "┡━━━━━━━━━━━━━━━━━━━━━━━━━━━━━━━━━╇━━━━━━━━━━━━━━━━━━━━━━━━╇━━━━━━━━━━━━━━━┩\n",
       "│ lstm_6 (<span style=\"color: #0087ff; text-decoration-color: #0087ff\">LSTM</span>)                   │ (<span style=\"color: #00d7ff; text-decoration-color: #00d7ff\">None</span>, <span style=\"color: #00af00; text-decoration-color: #00af00\">30</span>, <span style=\"color: #00af00; text-decoration-color: #00af00\">32</span>)         │         <span style=\"color: #00af00; text-decoration-color: #00af00\">8,064</span> │\n",
       "├─────────────────────────────────┼────────────────────────┼───────────────┤\n",
       "│ lstm_7 (<span style=\"color: #0087ff; text-decoration-color: #0087ff\">LSTM</span>)                   │ (<span style=\"color: #00d7ff; text-decoration-color: #00d7ff\">None</span>, <span style=\"color: #00af00; text-decoration-color: #00af00\">16</span>)             │         <span style=\"color: #00af00; text-decoration-color: #00af00\">3,136</span> │\n",
       "├─────────────────────────────────┼────────────────────────┼───────────────┤\n",
       "│ dropout_6 (<span style=\"color: #0087ff; text-decoration-color: #0087ff\">Dropout</span>)             │ (<span style=\"color: #00d7ff; text-decoration-color: #00d7ff\">None</span>, <span style=\"color: #00af00; text-decoration-color: #00af00\">16</span>)             │             <span style=\"color: #00af00; text-decoration-color: #00af00\">0</span> │\n",
       "├─────────────────────────────────┼────────────────────────┼───────────────┤\n",
       "│ dense_6 (<span style=\"color: #0087ff; text-decoration-color: #0087ff\">Dense</span>)                 │ (<span style=\"color: #00d7ff; text-decoration-color: #00d7ff\">None</span>, <span style=\"color: #00af00; text-decoration-color: #00af00\">64</span>)             │         <span style=\"color: #00af00; text-decoration-color: #00af00\">1,088</span> │\n",
       "├─────────────────────────────────┼────────────────────────┼───────────────┤\n",
       "│ dropout_7 (<span style=\"color: #0087ff; text-decoration-color: #0087ff\">Dropout</span>)             │ (<span style=\"color: #00d7ff; text-decoration-color: #00d7ff\">None</span>, <span style=\"color: #00af00; text-decoration-color: #00af00\">64</span>)             │             <span style=\"color: #00af00; text-decoration-color: #00af00\">0</span> │\n",
       "├─────────────────────────────────┼────────────────────────┼───────────────┤\n",
       "│ dense_7 (<span style=\"color: #0087ff; text-decoration-color: #0087ff\">Dense</span>)                 │ (<span style=\"color: #00d7ff; text-decoration-color: #00d7ff\">None</span>, <span style=\"color: #00af00; text-decoration-color: #00af00\">1</span>)              │            <span style=\"color: #00af00; text-decoration-color: #00af00\">65</span> │\n",
       "└─────────────────────────────────┴────────────────────────┴───────────────┘\n",
       "</pre>\n"
      ],
      "text/plain": [
       "┏━━━━━━━━━━━━━━━━━━━━━━━━━━━━━━━━━┳━━━━━━━━━━━━━━━━━━━━━━━━┳━━━━━━━━━━━━━━━┓\n",
       "┃\u001b[1m \u001b[0m\u001b[1mLayer (type)                   \u001b[0m\u001b[1m \u001b[0m┃\u001b[1m \u001b[0m\u001b[1mOutput Shape          \u001b[0m\u001b[1m \u001b[0m┃\u001b[1m \u001b[0m\u001b[1m      Param #\u001b[0m\u001b[1m \u001b[0m┃\n",
       "┡━━━━━━━━━━━━━━━━━━━━━━━━━━━━━━━━━╇━━━━━━━━━━━━━━━━━━━━━━━━╇━━━━━━━━━━━━━━━┩\n",
       "│ lstm_6 (\u001b[38;5;33mLSTM\u001b[0m)                   │ (\u001b[38;5;45mNone\u001b[0m, \u001b[38;5;34m30\u001b[0m, \u001b[38;5;34m32\u001b[0m)         │         \u001b[38;5;34m8,064\u001b[0m │\n",
       "├─────────────────────────────────┼────────────────────────┼───────────────┤\n",
       "│ lstm_7 (\u001b[38;5;33mLSTM\u001b[0m)                   │ (\u001b[38;5;45mNone\u001b[0m, \u001b[38;5;34m16\u001b[0m)             │         \u001b[38;5;34m3,136\u001b[0m │\n",
       "├─────────────────────────────────┼────────────────────────┼───────────────┤\n",
       "│ dropout_6 (\u001b[38;5;33mDropout\u001b[0m)             │ (\u001b[38;5;45mNone\u001b[0m, \u001b[38;5;34m16\u001b[0m)             │             \u001b[38;5;34m0\u001b[0m │\n",
       "├─────────────────────────────────┼────────────────────────┼───────────────┤\n",
       "│ dense_6 (\u001b[38;5;33mDense\u001b[0m)                 │ (\u001b[38;5;45mNone\u001b[0m, \u001b[38;5;34m64\u001b[0m)             │         \u001b[38;5;34m1,088\u001b[0m │\n",
       "├─────────────────────────────────┼────────────────────────┼───────────────┤\n",
       "│ dropout_7 (\u001b[38;5;33mDropout\u001b[0m)             │ (\u001b[38;5;45mNone\u001b[0m, \u001b[38;5;34m64\u001b[0m)             │             \u001b[38;5;34m0\u001b[0m │\n",
       "├─────────────────────────────────┼────────────────────────┼───────────────┤\n",
       "│ dense_7 (\u001b[38;5;33mDense\u001b[0m)                 │ (\u001b[38;5;45mNone\u001b[0m, \u001b[38;5;34m1\u001b[0m)              │            \u001b[38;5;34m65\u001b[0m │\n",
       "└─────────────────────────────────┴────────────────────────┴───────────────┘\n"
      ]
     },
     "metadata": {},
     "output_type": "display_data"
    },
    {
     "data": {
      "text/html": [
       "<pre style=\"white-space:pre;overflow-x:auto;line-height:normal;font-family:Menlo,'DejaVu Sans Mono',consolas,'Courier New',monospace\"><span style=\"font-weight: bold\"> Total params: </span><span style=\"color: #00af00; text-decoration-color: #00af00\">37,061</span> (144.77 KB)\n",
       "</pre>\n"
      ],
      "text/plain": [
       "\u001b[1m Total params: \u001b[0m\u001b[38;5;34m37,061\u001b[0m (144.77 KB)\n"
      ]
     },
     "metadata": {},
     "output_type": "display_data"
    },
    {
     "data": {
      "text/html": [
       "<pre style=\"white-space:pre;overflow-x:auto;line-height:normal;font-family:Menlo,'DejaVu Sans Mono',consolas,'Courier New',monospace\"><span style=\"font-weight: bold\"> Trainable params: </span><span style=\"color: #00af00; text-decoration-color: #00af00\">12,353</span> (48.25 KB)\n",
       "</pre>\n"
      ],
      "text/plain": [
       "\u001b[1m Trainable params: \u001b[0m\u001b[38;5;34m12,353\u001b[0m (48.25 KB)\n"
      ]
     },
     "metadata": {},
     "output_type": "display_data"
    },
    {
     "data": {
      "text/html": [
       "<pre style=\"white-space:pre;overflow-x:auto;line-height:normal;font-family:Menlo,'DejaVu Sans Mono',consolas,'Courier New',monospace\"><span style=\"font-weight: bold\"> Non-trainable params: </span><span style=\"color: #00af00; text-decoration-color: #00af00\">0</span> (0.00 B)\n",
       "</pre>\n"
      ],
      "text/plain": [
       "\u001b[1m Non-trainable params: \u001b[0m\u001b[38;5;34m0\u001b[0m (0.00 B)\n"
      ]
     },
     "metadata": {},
     "output_type": "display_data"
    },
    {
     "data": {
      "text/html": [
       "<pre style=\"white-space:pre;overflow-x:auto;line-height:normal;font-family:Menlo,'DejaVu Sans Mono',consolas,'Courier New',monospace\"><span style=\"font-weight: bold\"> Optimizer params: </span><span style=\"color: #00af00; text-decoration-color: #00af00\">24,708</span> (96.52 KB)\n",
       "</pre>\n"
      ],
      "text/plain": [
       "\u001b[1m Optimizer params: \u001b[0m\u001b[38;5;34m24,708\u001b[0m (96.52 KB)\n"
      ]
     },
     "metadata": {},
     "output_type": "display_data"
    }
   ],
   "source": [
    "rnn.summary()"
   ]
  },
  {
   "cell_type": "code",
   "execution_count": 110,
   "id": "eb5f549a-05e0-415f-a830-1d78251bbe80",
   "metadata": {},
   "outputs": [
    {
     "data": {
      "image/png": "[encoded data removed]",
      "text/plain": [
       "<IPython.core.display.Image object>"
      ]
     },
     "execution_count": 110,
     "metadata": {},
     "output_type": "execute_result"
    }
   ],
   "source": [
    "plot_model(rnn)"
   ]
  },
  {
   "cell_type": "markdown",
   "id": "22a519e1-200f-431f-8e8a-45dc8b637bc2",
   "metadata": {},
   "source": [
    "### Conclusion\n",
    "\n",
    "<ul> <li>Model RNN yang dibangun menggunakan arsitektur LSTM berhasil mendeteksi pola dari data transaksi kartu kredit untuk membedakan antara transaksi penipuan dan transaksi yang sah.</li> <li>Penggunaan teknik SMOTE berhasil mengatasi ketidakseimbangan kelas, meningkatkan kemampuan model untuk mempelajari pola dari kelas minoritas.</li> <li>Model mencapai akurasi keseluruhan sebesar 71%, dengan performa yang cukup baik pada metrik precision, recall, dan F1-score untuk kedua kelas.</ul>\n",
    "\n",
    "Secara keseluruhan, pendekatan berbasis deep learning ini menunjukkan potensi yang baik untuk diterapkan pada kasus nyata deteksi penipuan transaksi kartu kredit"
   ]
  },
  {
   "cell_type": "code",
   "execution_count": 114,
   "id": "ff04aba1",
   "metadata": {},
   "outputs": [
    {
     "name": "stderr",
     "output_type": "stream",
     "text": [
      "[NbConvertApp] Converting notebook ./UTS2024_IF540L_KelasAL_Kelompok_6.ipynb to html\n",
      "[NbConvertApp] WARNING | Alternative text is missing on 3 image(s).\n",
      "[NbConvertApp] Writing 420036 bytes to UTS2024_IF540L_KelasAL_Kelompok_6.html\n"
     ]
    }
   ],
   "source": [
    "!jupyter nbconvert --to html \"./UTS2024_IF540L_KelasAL_Kelompok_6.ipynb\" --output-dir=\"./\""
   ]
  },
  {
   "cell_type": "markdown",
   "id": "0d142d46",
   "metadata": {},
   "source": [
    "### Next step:\n",
    "* convert the generated html file to PDF using the online tool: https://www.sejda.com/html-to-pdf\n",
    "* choose the following settings:\n",
    "    * Page size: One long page\n",
    "    * Page Orientation: auto\n",
    "    * Use print stylesheet\n",
    "* Submit your ipython notebook and PDF files\n",
    "\n",
    "Markdown basics https://markdown-guide.readthedocs.io/en/latest/basics.html#"
   ]
  }
 ],
 "metadata": {
  "kernelspec": {
   "display_name": "Python 3 (ipykernel)",
   "language": "python",
   "name": "python3"
  },
  "language_info": {
   "codemirror_mode": {
    "name": "ipython",
    "version": 3
   },
   "file_extension": ".py",
   "mimetype": "text/x-python",
   "name": "python",
   "nbconvert_exporter": "python",
   "pygments_lexer": "ipython3",
   "version": "3.11.7"
  }
 },
 "nbformat": 4,
 "nbformat_minor": 5
}
